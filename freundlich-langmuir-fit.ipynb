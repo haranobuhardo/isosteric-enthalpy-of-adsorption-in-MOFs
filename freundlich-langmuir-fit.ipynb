{
 "cells": [
  {
   "cell_type": "markdown",
   "metadata": {},
   "source": [
    "### Modules needed:\n",
    "1. Numpy\n",
    "2. Pandas\n",
    "3. Matplotlib\n",
    "4. Scipy (for curve_fit function)\n",
    "5. Sklearn (optional, just to simplify R^2 calculation)"
   ]
  },
  {
   "cell_type": "code",
   "execution_count": 1,
   "metadata": {},
   "outputs": [],
   "source": [
    "import numpy as np\n",
    "import pandas as pd\n",
    "import matplotlib.pyplot as plt\n",
    "from scipy.optimize import curve_fit\n",
    "from sklearn.metrics import r2_score"
   ]
  },
  {
   "cell_type": "markdown",
   "metadata": {},
   "source": [
    "## 1. Load the reference data\n",
    "\n",
    "In this example, we are using two datasets for CO2 Adsorption at 298K and 313K"
   ]
  },
  {
   "cell_type": "code",
   "execution_count": 2,
   "metadata": {},
   "outputs": [],
   "source": [
    "T1 = 298 # Kelvin\n",
    "T2 = 313 # Kelvin\n",
    "\n",
    "data_T1 = {'CO2_loading_mol': [0.073, 0.221, 0.728, 1.060, 2.094, 3.087, 4.616, 6.292, 8.815, 12.995, 14.393, 15.906],\n",
    "        'pressure': [0.051, 0.153, 0.515, 0.762, 1.546, 2.494, 3.799, 5.511, 8.401, 16.047, 19.997, 28.566]} #CO2 adsorption at 298K\n",
    "\n",
    "data_T2 = {'CO2_loading_mol': [0.054, 0.152, 0.523, 0.756, 1.468, 2.351, 3.286, 4.732, 6.469, 10.342, 11.787, 13.752],\n",
    "        'pressure': [0.051, 0.153, 0.515, 0.762, 1.546, 2.494, 3.799, 5.511, 8.401, 16.047, 19.997, 28.566]} # CO2 adsorption at 313K"
   ]
  },
  {
   "cell_type": "markdown",
   "metadata": {},
   "source": [
    "Convert it to dataframe (for data transforming easiness) and check by plotting it"
   ]
  },
  {
   "cell_type": "code",
   "execution_count": 21,
   "metadata": {},
   "outputs": [
    {
     "data": {
      "image/png": "[encoded data removed]",
      "text/plain": [
       "<Figure size 432x288 with 1 Axes>"
      ]
     },
     "metadata": {
      "needs_background": "light"
     },
     "output_type": "display_data"
    }
   ],
   "source": [
    "df_T1 = pd.DataFrame(data_T1)\n",
    "df_T2 = pd.DataFrame(data_T2)\n",
    "\n",
    "plt.figure()\n",
    "plt.plot(df_T1['pressure'], df_T1['CO2_loading_mol'], 'g-.', label='Data for T1')\n",
    "plt.plot(df_T2['pressure'], df_T2['CO2_loading_mol'], 'b-.', label='Data for T2')\n",
    "plt.xlabel('Pressure (bar)')\n",
    "plt.ylabel('CO2 Loading Mol (mmol/gr)')\n",
    "plt.legend()\n",
    "plt.show()"
   ]
  },
  {
   "cell_type": "markdown",
   "metadata": {},
   "source": [
    "## 2. Create the Freundlich–Langmuir-type functions"
   ]
  },
  {
   "cell_type": "code",
   "execution_count": 4,
   "metadata": {},
   "outputs": [],
   "source": [
    "def loading_mol(p, a, b, c): # where p in bar\n",
    "    return (a * b * p**c) / (1 + (b * p**c))"
   ]
  },
  {
   "cell_type": "code",
   "execution_count": 5,
   "metadata": {},
   "outputs": [],
   "source": [
    "def p_isotherm(n, a, b, c): # where n in mmol/gr\n",
    "    return (n / (a*b - n*b))**(1/c)"
   ]
  },
  {
   "cell_type": "markdown",
   "metadata": {},
   "source": [
    "Try to test the created functions with obtained parameters from our Origin trials"
   ]
  },
  {
   "cell_type": "code",
   "execution_count": 6,
   "metadata": {},
   "outputs": [
    {
     "data": {
      "text/plain": [
       "0.02301109763852323"
      ]
     },
     "execution_count": 6,
     "metadata": {},
     "output_type": "execute_result"
    }
   ],
   "source": [
    "# test for existing parameter obtained from Origin for CO2 313K\n",
    "\n",
    "test_a = 23.50294\n",
    "test_b = 0.04083\n",
    "test_c = 1.06181\n",
    "\n",
    "loading_mol(test_a, test_b, test_c, 0.062) "
   ]
  },
  {
   "cell_type": "code",
   "execution_count": 7,
   "metadata": {},
   "outputs": [
    {
     "data": {
      "text/plain": [
       "0.3120083970882192"
      ]
     },
     "execution_count": 7,
     "metadata": {},
     "output_type": "execute_result"
    }
   ],
   "source": [
    "# test for existing parameter obtained from Origin for CO2 313K\n",
    "\n",
    "p_isotherm(test_a, test_b, test_c, 0.05) "
   ]
  },
  {
   "cell_type": "markdown",
   "metadata": {},
   "source": [
    "## 3. Fit the reference data to obtain a, b, c constant value\n",
    "\n",
    "This one is for T1 data"
   ]
  },
  {
   "cell_type": "code",
   "execution_count": 8,
   "metadata": {},
   "outputs": [
    {
     "name": "stdout",
     "output_type": "stream",
     "text": [
      "[22.04513417  0.05879994  1.14296621]\n",
      "R^2 Score: 0.9994494026621535\n"
     ]
    }
   ],
   "source": [
    "p0 = [1, 0.01, 0.01] #initial guess for a, b, c\n",
    "\n",
    "c, cov = curve_fit(loading_mol, df_T1['pressure'].values, df_T1['CO2_loading_mol'].values, p0, maxfev=10000)\n",
    "\n",
    "fit_a_T1, fit_b_T1, fit_c_T1 = c\n",
    "\n",
    "print(c)\n",
    "print('R^2 Score:', r2_score(df_T1['CO2_loading_mol'].values, loading_mol(df_T1['pressure'].values, *c)))"
   ]
  },
  {
   "cell_type": "markdown",
   "metadata": {},
   "source": [
    "Prediction result table dataframe for T1"
   ]
  },
  {
   "cell_type": "code",
   "execution_count": 9,
   "metadata": {},
   "outputs": [
    {
     "data": {
      "text/html": [
       "<div>\n",
       "<style scoped>\n",
       "    .dataframe tbody tr th:only-of-type {\n",
       "        vertical-align: middle;\n",
       "    }\n",
       "\n",
       "    .dataframe tbody tr th {\n",
       "        vertical-align: top;\n",
       "    }\n",
       "\n",
       "    .dataframe thead th {\n",
       "        text-align: right;\n",
       "    }\n",
       "</style>\n",
       "<table border=\"1\" class=\"dataframe\">\n",
       "  <thead>\n",
       "    <tr style=\"text-align: right;\">\n",
       "      <th></th>\n",
       "      <th>CO2_loading_mol</th>\n",
       "      <th>pressure</th>\n",
       "      <th>predicted_loading_mol</th>\n",
       "    </tr>\n",
       "  </thead>\n",
       "  <tbody>\n",
       "    <tr>\n",
       "      <th>0</th>\n",
       "      <td>0.073</td>\n",
       "      <td>0.051</td>\n",
       "      <td>0.043116</td>\n",
       "    </tr>\n",
       "    <tr>\n",
       "      <th>1</th>\n",
       "      <td>0.221</td>\n",
       "      <td>0.153</td>\n",
       "      <td>0.150606</td>\n",
       "    </tr>\n",
       "    <tr>\n",
       "      <th>2</th>\n",
       "      <td>0.728</td>\n",
       "      <td>0.515</td>\n",
       "      <td>0.590875</td>\n",
       "    </tr>\n",
       "    <tr>\n",
       "      <th>3</th>\n",
       "      <td>1.060</td>\n",
       "      <td>0.762</td>\n",
       "      <td>0.910842</td>\n",
       "    </tr>\n",
       "    <tr>\n",
       "      <th>4</th>\n",
       "      <td>2.094</td>\n",
       "      <td>1.546</td>\n",
       "      <td>1.944658</td>\n",
       "    </tr>\n",
       "    <tr>\n",
       "      <th>5</th>\n",
       "      <td>3.087</td>\n",
       "      <td>2.494</td>\n",
       "      <td>3.156568</td>\n",
       "    </tr>\n",
       "    <tr>\n",
       "      <th>6</th>\n",
       "      <td>4.616</td>\n",
       "      <td>3.799</td>\n",
       "      <td>4.691483</td>\n",
       "    </tr>\n",
       "    <tr>\n",
       "      <th>7</th>\n",
       "      <td>6.292</td>\n",
       "      <td>5.511</td>\n",
       "      <td>6.450080</td>\n",
       "    </tr>\n",
       "    <tr>\n",
       "      <th>8</th>\n",
       "      <td>8.815</td>\n",
       "      <td>8.401</td>\n",
       "      <td>8.841787</td>\n",
       "    </tr>\n",
       "    <tr>\n",
       "      <th>9</th>\n",
       "      <td>12.995</td>\n",
       "      <td>16.047</td>\n",
       "      <td>12.871668</td>\n",
       "    </tr>\n",
       "    <tr>\n",
       "      <th>10</th>\n",
       "      <td>14.393</td>\n",
       "      <td>19.997</td>\n",
       "      <td>14.184259</td>\n",
       "    </tr>\n",
       "    <tr>\n",
       "      <th>11</th>\n",
       "      <td>15.906</td>\n",
       "      <td>28.566</td>\n",
       "      <td>16.106989</td>\n",
       "    </tr>\n",
       "  </tbody>\n",
       "</table>\n",
       "</div>"
      ],
      "text/plain": [
       "    CO2_loading_mol  pressure  predicted_loading_mol\n",
       "0             0.073     0.051               0.043116\n",
       "1             0.221     0.153               0.150606\n",
       "2             0.728     0.515               0.590875\n",
       "3             1.060     0.762               0.910842\n",
       "4             2.094     1.546               1.944658\n",
       "5             3.087     2.494               3.156568\n",
       "6             4.616     3.799               4.691483\n",
       "7             6.292     5.511               6.450080\n",
       "8             8.815     8.401               8.841787\n",
       "9            12.995    16.047              12.871668\n",
       "10           14.393    19.997              14.184259\n",
       "11           15.906    28.566              16.106989"
      ]
     },
     "execution_count": 9,
     "metadata": {},
     "output_type": "execute_result"
    }
   ],
   "source": [
    "df_T1['predicted_loading_mol'] = loading_mol(df_T1['pressure'].values , fit_a_T1, fit_b_T1, fit_c_T1)\n",
    "df_T1"
   ]
  },
  {
   "cell_type": "markdown",
   "metadata": {},
   "source": [
    "This one is for T2 data"
   ]
  },
  {
   "cell_type": "code",
   "execution_count": 10,
   "metadata": {},
   "outputs": [
    {
     "name": "stdout",
     "output_type": "stream",
     "text": [
      "[23.50067108  0.04083061  1.06187962]\n",
      "R^2 Score: 0.9997057474934566\n"
     ]
    }
   ],
   "source": [
    "p0 = [1, 0.01, 0.01] #initial guess for a, b, c\n",
    "\n",
    "c, cov = curve_fit(loading_mol, df_T2['pressure'].values, df_T2['CO2_loading_mol'].values, p0)\n",
    "\n",
    "fit_a_T2, fit_b_T2, fit_c_T2 = c\n",
    "\n",
    "print(c)\n",
    "print('R^2 Score:', r2_score(df_T2['CO2_loading_mol'].values, loading_mol(df_T2['pressure'].values, *c)))"
   ]
  },
  {
   "cell_type": "code",
   "execution_count": 11,
   "metadata": {},
   "outputs": [
    {
     "data": {
      "text/html": [
       "<div>\n",
       "<style scoped>\n",
       "    .dataframe tbody tr th:only-of-type {\n",
       "        vertical-align: middle;\n",
       "    }\n",
       "\n",
       "    .dataframe tbody tr th {\n",
       "        vertical-align: top;\n",
       "    }\n",
       "\n",
       "    .dataframe thead th {\n",
       "        text-align: right;\n",
       "    }\n",
       "</style>\n",
       "<table border=\"1\" class=\"dataframe\">\n",
       "  <thead>\n",
       "    <tr style=\"text-align: right;\">\n",
       "      <th></th>\n",
       "      <th>CO2_loading_mol</th>\n",
       "      <th>pressure</th>\n",
       "      <th>predicted_loading_mol</th>\n",
       "    </tr>\n",
       "  </thead>\n",
       "  <tbody>\n",
       "    <tr>\n",
       "      <th>0</th>\n",
       "      <td>0.054</td>\n",
       "      <td>0.051</td>\n",
       "      <td>0.040636</td>\n",
       "    </tr>\n",
       "    <tr>\n",
       "      <th>1</th>\n",
       "      <td>0.152</td>\n",
       "      <td>0.153</td>\n",
       "      <td>0.129986</td>\n",
       "    </tr>\n",
       "    <tr>\n",
       "      <th>2</th>\n",
       "      <td>0.523</td>\n",
       "      <td>0.515</td>\n",
       "      <td>0.464903</td>\n",
       "    </tr>\n",
       "    <tr>\n",
       "      <th>3</th>\n",
       "      <td>0.756</td>\n",
       "      <td>0.762</td>\n",
       "      <td>0.697636</td>\n",
       "    </tr>\n",
       "    <tr>\n",
       "      <th>4</th>\n",
       "      <td>1.468</td>\n",
       "      <td>1.546</td>\n",
       "      <td>1.431185</td>\n",
       "    </tr>\n",
       "    <tr>\n",
       "      <th>5</th>\n",
       "      <td>2.351</td>\n",
       "      <td>2.494</td>\n",
       "      <td>2.286010</td>\n",
       "    </tr>\n",
       "    <tr>\n",
       "      <th>6</th>\n",
       "      <td>3.286</td>\n",
       "      <td>3.799</td>\n",
       "      <td>3.388342</td>\n",
       "    </tr>\n",
       "    <tr>\n",
       "      <th>7</th>\n",
       "      <td>4.732</td>\n",
       "      <td>5.511</td>\n",
       "      <td>4.701375</td>\n",
       "    </tr>\n",
       "    <tr>\n",
       "      <th>8</th>\n",
       "      <td>6.469</td>\n",
       "      <td>8.401</td>\n",
       "      <td>6.609557</td>\n",
       "    </tr>\n",
       "    <tr>\n",
       "      <th>9</th>\n",
       "      <td>10.342</td>\n",
       "      <td>16.047</td>\n",
       "      <td>10.283055</td>\n",
       "    </tr>\n",
       "    <tr>\n",
       "      <th>10</th>\n",
       "      <td>11.787</td>\n",
       "      <td>19.997</td>\n",
       "      <td>11.648254</td>\n",
       "    </tr>\n",
       "    <tr>\n",
       "      <th>11</th>\n",
       "      <td>13.752</td>\n",
       "      <td>28.566</td>\n",
       "      <td>13.850399</td>\n",
       "    </tr>\n",
       "  </tbody>\n",
       "</table>\n",
       "</div>"
      ],
      "text/plain": [
       "    CO2_loading_mol  pressure  predicted_loading_mol\n",
       "0             0.054     0.051               0.040636\n",
       "1             0.152     0.153               0.129986\n",
       "2             0.523     0.515               0.464903\n",
       "3             0.756     0.762               0.697636\n",
       "4             1.468     1.546               1.431185\n",
       "5             2.351     2.494               2.286010\n",
       "6             3.286     3.799               3.388342\n",
       "7             4.732     5.511               4.701375\n",
       "8             6.469     8.401               6.609557\n",
       "9            10.342    16.047              10.283055\n",
       "10           11.787    19.997              11.648254\n",
       "11           13.752    28.566              13.850399"
      ]
     },
     "execution_count": 11,
     "metadata": {},
     "output_type": "execute_result"
    }
   ],
   "source": [
    "df_T2['predicted_loading_mol'] = loading_mol(df_T1['pressure'].values , fit_a_T2, fit_b_T2, fit_c_T2)\n",
    "df_T2"
   ]
  },
  {
   "cell_type": "markdown",
   "metadata": {},
   "source": [
    "## 4. Plot the result to check regression with the data"
   ]
  },
  {
   "cell_type": "code",
   "execution_count": 12,
   "metadata": {},
   "outputs": [
    {
     "data": {
      "image/png": "[encoded data removed]",
      "text/plain": [
       "<Figure size 432x288 with 1 Axes>"
      ]
     },
     "metadata": {
      "needs_background": "light"
     },
     "output_type": "display_data"
    }
   ],
   "source": [
    "test_x_T1 = np.linspace(df_T1['pressure'].min(), df_T1['pressure'].max(), 100)\n",
    "test_x_T2 = np.linspace(df_T2['pressure'].min(), df_T2['pressure'].max(), 100)\n",
    "\n",
    "plt.figure()\n",
    "plt.plot(df_T1['pressure'].values, df_T1['CO2_loading_mol'].values, 'g.', label='data T1')\n",
    "plt.plot(df_T2['pressure'].values, df_T2['CO2_loading_mol'].values, 'b.', label='data T2')\n",
    "plt.plot(test_x_T1, loading_mol(test_x_T1 , fit_a_T1, fit_b_T1, fit_c_T1), 'y-', label=f'fit T1: a = {fit_a_T1:.3f}, b = {fit_b_T1:.3f}, c = {fit_c_T1:.3f}')\n",
    "plt.plot(test_x_T2, loading_mol(test_x_T2 , fit_a_T2, fit_b_T2, fit_c_T2), 'r-', label=f'fit T2: a = {fit_a_T2:.3f}, b = {fit_b_T2:.3f}, c = {fit_c_T2:.3f}')\n",
    "plt.xlabel('Pressure (bar)')\n",
    "plt.ylabel('CO2 loading Mol (mmol/g)')\n",
    "plt.legend()\n",
    "plt.show()"
   ]
  },
  {
   "cell_type": "markdown",
   "metadata": {},
   "source": [
    "## 5. Calculate and Plot Enthalpy of Adsorption"
   ]
  },
  {
   "cell_type": "code",
   "execution_count": 13,
   "metadata": {},
   "outputs": [],
   "source": [
    "def heat_of_adsorption(p1, p2, T1, T2, R):\n",
    "    enthalpy = (-R * np.log(p2/p1) * (T1 * T2) / (T2-T1)) # J/mol\n",
    "    return enthalpy / 1000 # to KJ/mol"
   ]
  },
  {
   "cell_type": "code",
   "execution_count": 14,
   "metadata": {},
   "outputs": [
    {
     "data": {
      "image/png": "[encoded data removed]",
      "text/plain": [
       "<Figure size 432x288 with 1 Axes>"
      ]
     },
     "metadata": {
      "needs_background": "light"
     },
     "output_type": "display_data"
    }
   ],
   "source": [
    "R = 8.314 # J/mol/K\n",
    "test_n = np.arange(0.01, 16, 0.05)\n",
    "fit_p1 = p_isotherm(test_n, fit_a_T1, fit_b_T1, fit_c_T1)\n",
    "fit_p2 = p_isotherm(test_n, fit_a_T2, fit_b_T2, fit_c_T2)\n",
    "result_enthalpy = heat_of_adsorption(fit_p1, fit_p2, T1, T2, R)\n",
    "\n",
    "plt.figure()\n",
    "plt.plot(test_n, result_enthalpy, 'b-', label='Enthalpy of Adsorption using Clausius-Clayperon')\n",
    "plt.xlabel('Amount adsorbed n (mmol/gr)')\n",
    "plt.ylabel('Enthalpy of Adsorption (kJ/mol)')\n",
    "plt.legend()\n",
    "plt.show()"
   ]
  },
  {
   "cell_type": "code",
   "execution_count": 15,
   "metadata": {},
   "outputs": [
    {
     "data": {
      "text/html": [
       "<div>\n",
       "<style scoped>\n",
       "    .dataframe tbody tr th:only-of-type {\n",
       "        vertical-align: middle;\n",
       "    }\n",
       "\n",
       "    .dataframe tbody tr th {\n",
       "        vertical-align: top;\n",
       "    }\n",
       "\n",
       "    .dataframe thead th {\n",
       "        text-align: right;\n",
       "    }\n",
       "</style>\n",
       "<table border=\"1\" class=\"dataframe\">\n",
       "  <thead>\n",
       "    <tr style=\"text-align: right;\">\n",
       "      <th></th>\n",
       "      <th>loading (mmol/g)</th>\n",
       "      <th>isothermal pressure T1 (bar)</th>\n",
       "      <th>isothermal pressure T2 (bar)</th>\n",
       "      <th>Enthalpy of Adsorption (kJ/mol)</th>\n",
       "    </tr>\n",
       "  </thead>\n",
       "  <tbody>\n",
       "    <tr>\n",
       "      <th>0</th>\n",
       "      <td>0.01</td>\n",
       "      <td>0.014182</td>\n",
       "      <td>0.013602</td>\n",
       "      <td>2.158820</td>\n",
       "    </tr>\n",
       "    <tr>\n",
       "      <th>1</th>\n",
       "      <td>0.06</td>\n",
       "      <td>0.068144</td>\n",
       "      <td>0.073669</td>\n",
       "      <td>-4.030866</td>\n",
       "    </tr>\n",
       "    <tr>\n",
       "      <th>2</th>\n",
       "      <td>0.11</td>\n",
       "      <td>0.116039</td>\n",
       "      <td>0.130636</td>\n",
       "      <td>-6.125420</td>\n",
       "    </tr>\n",
       "    <tr>\n",
       "      <th>3</th>\n",
       "      <td>0.16</td>\n",
       "      <td>0.161378</td>\n",
       "      <td>0.186287</td>\n",
       "      <td>-7.420565</td>\n",
       "    </tr>\n",
       "    <tr>\n",
       "      <th>4</th>\n",
       "      <td>0.21</td>\n",
       "      <td>0.205136</td>\n",
       "      <td>0.241144</td>\n",
       "      <td>-8.360767</td>\n",
       "    </tr>\n",
       "    <tr>\n",
       "      <th>...</th>\n",
       "      <td>...</td>\n",
       "      <td>...</td>\n",
       "      <td>...</td>\n",
       "      <td>...</td>\n",
       "    </tr>\n",
       "    <tr>\n",
       "      <th>315</th>\n",
       "      <td>15.76</td>\n",
       "      <td>26.668316</td>\n",
       "      <td>39.705914</td>\n",
       "      <td>-20.577308</td>\n",
       "    </tr>\n",
       "    <tr>\n",
       "      <th>316</th>\n",
       "      <td>15.81</td>\n",
       "      <td>26.929857</td>\n",
       "      <td>40.068313</td>\n",
       "      <td>-20.542479</td>\n",
       "    </tr>\n",
       "    <tr>\n",
       "      <th>317</th>\n",
       "      <td>15.86</td>\n",
       "      <td>27.195255</td>\n",
       "      <td>40.435249</td>\n",
       "      <td>-20.506763</td>\n",
       "    </tr>\n",
       "    <tr>\n",
       "      <th>318</th>\n",
       "      <td>15.91</td>\n",
       "      <td>27.464600</td>\n",
       "      <td>40.806809</td>\n",
       "      <td>-20.470143</td>\n",
       "    </tr>\n",
       "    <tr>\n",
       "      <th>319</th>\n",
       "      <td>15.96</td>\n",
       "      <td>27.737984</td>\n",
       "      <td>41.183082</td>\n",
       "      <td>-20.432596</td>\n",
       "    </tr>\n",
       "  </tbody>\n",
       "</table>\n",
       "<p>320 rows × 4 columns</p>\n",
       "</div>"
      ],
      "text/plain": [
       "     loading (mmol/g)  isothermal pressure T1 (bar)  \\\n",
       "0                0.01                      0.014182   \n",
       "1                0.06                      0.068144   \n",
       "2                0.11                      0.116039   \n",
       "3                0.16                      0.161378   \n",
       "4                0.21                      0.205136   \n",
       "..                ...                           ...   \n",
       "315             15.76                     26.668316   \n",
       "316             15.81                     26.929857   \n",
       "317             15.86                     27.195255   \n",
       "318             15.91                     27.464600   \n",
       "319             15.96                     27.737984   \n",
       "\n",
       "     isothermal pressure T2 (bar)  Enthalpy of Adsorption (kJ/mol)  \n",
       "0                        0.013602                         2.158820  \n",
       "1                        0.073669                        -4.030866  \n",
       "2                        0.130636                        -6.125420  \n",
       "3                        0.186287                        -7.420565  \n",
       "4                        0.241144                        -8.360767  \n",
       "..                            ...                              ...  \n",
       "315                     39.705914                       -20.577308  \n",
       "316                     40.068313                       -20.542479  \n",
       "317                     40.435249                       -20.506763  \n",
       "318                     40.806809                       -20.470143  \n",
       "319                     41.183082                       -20.432596  \n",
       "\n",
       "[320 rows x 4 columns]"
      ]
     },
     "execution_count": 15,
     "metadata": {},
     "output_type": "execute_result"
    }
   ],
   "source": [
    "df_enthalpy = pd.DataFrame({'loading (mmol/g)': test_n, 'isothermal pressure T1 (bar)': fit_p1,\n",
    "                            'isothermal pressure T2 (bar)': fit_p2, 'Enthalpy of Adsorption (kJ/mol)': result_enthalpy})\n",
    "\n",
    "df_enthalpy"
   ]
  }
 ],
 "metadata": {
  "interpreter": {
   "hash": "d3333944ebd800f607d1cb2b1b2e0ffdd2c51db1d8ecf6b61152d267227fff04"
  },
  "kernelspec": {
   "display_name": "Python 3.7.6 64-bit ('base': conda)",
   "language": "python",
   "name": "python3"
  },
  "language_info": {
   "codemirror_mode": {
    "name": "ipython",
    "version": 3
   },
   "file_extension": ".py",
   "mimetype": "text/x-python",
   "name": "python",
   "nbconvert_exporter": "python",
   "pygments_lexer": "ipython3",
   "version": "3.7.6"
  },
  "orig_nbformat": 4
 },
 "nbformat": 4,
 "nbformat_minor": 2
}
